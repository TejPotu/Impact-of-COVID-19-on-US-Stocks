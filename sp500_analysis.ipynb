{
 "cells": [
  {
   "cell_type": "code",
   "execution_count": 12,
   "id": "cbc90f90",
   "metadata": {},
   "outputs": [
    {
     "name": "stdout",
     "output_type": "stream",
     "text": [
      "            Date         Open         High          Low        Close  \\\n",
      "0     2018-03-12  2790.540039  2796.979980  2779.260010  2783.020020   \n",
      "1     2018-03-13  2792.310059  2801.899902  2758.679932  2765.310059   \n",
      "2     2018-03-14  2774.060059  2777.110107  2744.379883  2749.479980   \n",
      "3     2018-03-15  2754.270020  2763.030029  2741.469971  2747.330078   \n",
      "4     2018-03-16  2750.570068  2761.850098  2749.969971  2752.010010   \n",
      "...          ...          ...          ...          ...          ...   \n",
      "1253  2023-03-03  3998.020020  4048.290039  3995.169922  4045.639893   \n",
      "1254  2023-03-06  4055.149902  4078.489990  4044.610107  4048.419922   \n",
      "1255  2023-03-07  4048.260010  4050.000000  3980.310059  3986.370117   \n",
      "1256  2023-03-08  3987.550049  4000.409912  3969.760010  3992.010010   \n",
      "1257  2023-03-09  3998.659912  4017.810059  3908.699951  3918.320068   \n",
      "\n",
      "        Adj Close      Volume  \n",
      "0     2783.020020  3216960000  \n",
      "1     2765.310059  3324290000  \n",
      "2     2749.479980  3394630000  \n",
      "3     2747.330078  3543710000  \n",
      "4     2752.010010  5429140000  \n",
      "...           ...         ...  \n",
      "1253  4045.639893  4084730000  \n",
      "1254  4048.419922  4000870000  \n",
      "1255  3986.370117  3922500000  \n",
      "1256  3992.010010  3535570000  \n",
      "1257  3918.320068  4445260000  \n",
      "\n",
      "[1258 rows x 7 columns]\n"
     ]
    }
   ],
   "source": [
    "def format_date(input_str):\n",
    "    if \"-\" in input_str:\n",
    "        input_str = input_str.replace(\"-\", \"/\")\n",
    "        input_str=input_str[:-4]+input_str[-2:]\n",
    "        return input_str\n",
    "    else:\n",
    "        return input_str\n",
    "import pandas as pd\n",
    "df = pd.read_csv(\"s_and_p (2).csv\")\n",
    "print(df)"
   ]
  },
  {
   "cell_type": "code",
   "execution_count": 13,
   "id": "3b2fc429",
   "metadata": {},
   "outputs": [
    {
     "name": "stdout",
     "output_type": "stream",
     "text": [
      "         Date         Open         High          Low        Close  \\\n",
      "0  2018-03-12  2790.540039  2796.979980  2779.260010  2783.020020   \n",
      "1  2018-03-13  2792.310059  2801.899902  2758.679932  2765.310059   \n",
      "2  2018-03-14  2774.060059  2777.110107  2744.379883  2749.479980   \n",
      "3  2018-03-15  2754.270020  2763.030029  2741.469971  2747.330078   \n",
      "4  2018-03-16  2750.570068  2761.850098  2749.969971  2752.010010   \n",
      "\n",
      "     Adj Close      Volume  \n",
      "0  2783.020020  3216960000  \n",
      "1  2765.310059  3324290000  \n",
      "2  2749.479980  3394630000  \n",
      "3  2747.330078  3543710000  \n",
      "4  2752.010010  5429140000  \n"
     ]
    }
   ],
   "source": [
    "import matplotlib.pyplot as plt\n",
    "print(df.head())"
   ]
  },
  {
   "cell_type": "code",
   "execution_count": 14,
   "id": "d9492adf",
   "metadata": {},
   "outputs": [
    {
     "name": "stdout",
     "output_type": "stream",
     "text": [
      "(1258, 7)\n"
     ]
    }
   ],
   "source": [
    "print(df.shape)"
   ]
  },
  {
   "cell_type": "code",
   "execution_count": 15,
   "id": "effbc319",
   "metadata": {},
   "outputs": [
    {
     "name": "stdout",
     "output_type": "stream",
     "text": [
      "              Open         High          Low        Close    Adj Close  \\\n",
      "count  1258.000000  1258.000000  1258.000000  1258.000000  1258.000000   \n",
      "mean   3496.527727  3518.091246  3472.824220  3496.661343  3496.661343   \n",
      "std     662.158234   665.817851   658.617785   662.461152   662.461152   \n",
      "min    2290.709961  2300.729980  2191.860107  2237.399902  2237.399902   \n",
      "25%    2882.565002  2893.472412  2864.847473  2881.242432  2881.242432   \n",
      "50%    3370.420044  3389.319946  3358.065063  3374.395020  3374.395020   \n",
      "75%    4080.309998  4112.937622  4060.007507  4081.152527  4081.152527   \n",
      "max    4804.509766  4818.620117  4780.040039  4796.560059  4796.560059   \n",
      "\n",
      "             Volume  \n",
      "count  1.258000e+03  \n",
      "mean   4.239659e+09  \n",
      "std    1.076383e+09  \n",
      "min    1.296530e+09  \n",
      "25%    3.536050e+09  \n",
      "50%    4.010000e+09  \n",
      "75%    4.683920e+09  \n",
      "max    9.976520e+09  \n"
     ]
    }
   ],
   "source": [
    "print(df.describe())"
   ]
  },
  {
   "cell_type": "code",
   "execution_count": 16,
   "id": "7f7bf17c",
   "metadata": {},
   "outputs": [
    {
     "name": "stdout",
     "output_type": "stream",
     "text": [
      "Date         0\n",
      "Open         0\n",
      "High         0\n",
      "Low          0\n",
      "Close        0\n",
      "Adj Close    0\n",
      "Volume       0\n",
      "dtype: int64\n"
     ]
    }
   ],
   "source": [
    "print(df.isnull().sum())"
   ]
  },
  {
   "cell_type": "code",
   "execution_count": 17,
   "id": "4535d36b",
   "metadata": {},
   "outputs": [
    {
     "name": "stdout",
     "output_type": "stream",
     "text": [
      "<class 'pandas.core.frame.DataFrame'>\n",
      "RangeIndex: 1258 entries, 0 to 1257\n",
      "Data columns (total 7 columns):\n",
      " #   Column     Non-Null Count  Dtype  \n",
      "---  ------     --------------  -----  \n",
      " 0   Date       1258 non-null   object \n",
      " 1   Open       1258 non-null   float64\n",
      " 2   High       1258 non-null   float64\n",
      " 3   Low        1258 non-null   float64\n",
      " 4   Close      1258 non-null   float64\n",
      " 5   Adj Close  1258 non-null   float64\n",
      " 6   Volume     1258 non-null   int64  \n",
      "dtypes: float64(5), int64(1), object(1)\n",
      "memory usage: 68.9+ KB\n"
     ]
    }
   ],
   "source": [
    "df.info()"
   ]
  },
  {
   "cell_type": "code",
   "execution_count": 19,
   "id": "b428cedf",
   "metadata": {
    "scrolled": false
   },
   "outputs": [
    {
     "data": {
      "image/png": "[encoded data removed]",
      "text/plain": [
       "<Figure size 640x480 with 1 Axes>"
      ]
     },
     "metadata": {},
     "output_type": "display_data"
    }
   ],
   "source": [
    "plt.bar(df['Date'], df['Close'])\n",
    "plt.show()"
   ]
  },
  {
   "cell_type": "code",
   "execution_count": 20,
   "id": "b89564c5",
   "metadata": {},
   "outputs": [
    {
     "data": {
      "text/html": [
       "<div>\n",
       "<style scoped>\n",
       "    .dataframe tbody tr th:only-of-type {\n",
       "        vertical-align: middle;\n",
       "    }\n",
       "\n",
       "    .dataframe tbody tr th {\n",
       "        vertical-align: top;\n",
       "    }\n",
       "\n",
       "    .dataframe thead th {\n",
       "        text-align: right;\n",
       "    }\n",
       "</style>\n",
       "<table border=\"1\" class=\"dataframe\">\n",
       "  <thead>\n",
       "    <tr style=\"text-align: right;\">\n",
       "      <th></th>\n",
       "      <th>Date</th>\n",
       "      <th>Open</th>\n",
       "      <th>High</th>\n",
       "      <th>Low</th>\n",
       "      <th>Close</th>\n",
       "      <th>Adj Close</th>\n",
       "      <th>Volume</th>\n",
       "    </tr>\n",
       "  </thead>\n",
       "  <tbody>\n",
       "    <tr>\n",
       "      <th>count</th>\n",
       "      <td>1258</td>\n",
       "      <td>1258.000000</td>\n",
       "      <td>1258.000000</td>\n",
       "      <td>1258.000000</td>\n",
       "      <td>1258.000000</td>\n",
       "      <td>1258.000000</td>\n",
       "      <td>1.258000e+03</td>\n",
       "    </tr>\n",
       "    <tr>\n",
       "      <th>unique</th>\n",
       "      <td>1258</td>\n",
       "      <td>NaN</td>\n",
       "      <td>NaN</td>\n",
       "      <td>NaN</td>\n",
       "      <td>NaN</td>\n",
       "      <td>NaN</td>\n",
       "      <td>NaN</td>\n",
       "    </tr>\n",
       "    <tr>\n",
       "      <th>top</th>\n",
       "      <td>2018-03-12</td>\n",
       "      <td>NaN</td>\n",
       "      <td>NaN</td>\n",
       "      <td>NaN</td>\n",
       "      <td>NaN</td>\n",
       "      <td>NaN</td>\n",
       "      <td>NaN</td>\n",
       "    </tr>\n",
       "    <tr>\n",
       "      <th>freq</th>\n",
       "      <td>1</td>\n",
       "      <td>NaN</td>\n",
       "      <td>NaN</td>\n",
       "      <td>NaN</td>\n",
       "      <td>NaN</td>\n",
       "      <td>NaN</td>\n",
       "      <td>NaN</td>\n",
       "    </tr>\n",
       "    <tr>\n",
       "      <th>mean</th>\n",
       "      <td>NaN</td>\n",
       "      <td>3496.527727</td>\n",
       "      <td>3518.091246</td>\n",
       "      <td>3472.824220</td>\n",
       "      <td>3496.661343</td>\n",
       "      <td>3496.661343</td>\n",
       "      <td>4.239659e+09</td>\n",
       "    </tr>\n",
       "    <tr>\n",
       "      <th>std</th>\n",
       "      <td>NaN</td>\n",
       "      <td>662.158234</td>\n",
       "      <td>665.817851</td>\n",
       "      <td>658.617785</td>\n",
       "      <td>662.461152</td>\n",
       "      <td>662.461152</td>\n",
       "      <td>1.076383e+09</td>\n",
       "    </tr>\n",
       "    <tr>\n",
       "      <th>min</th>\n",
       "      <td>NaN</td>\n",
       "      <td>2290.709961</td>\n",
       "      <td>2300.729980</td>\n",
       "      <td>2191.860107</td>\n",
       "      <td>2237.399902</td>\n",
       "      <td>2237.399902</td>\n",
       "      <td>1.296530e+09</td>\n",
       "    </tr>\n",
       "    <tr>\n",
       "      <th>20%</th>\n",
       "      <td>NaN</td>\n",
       "      <td>2826.512012</td>\n",
       "      <td>2843.134033</td>\n",
       "      <td>2806.757959</td>\n",
       "      <td>2824.962012</td>\n",
       "      <td>2824.962012</td>\n",
       "      <td>3.432860e+09</td>\n",
       "    </tr>\n",
       "    <tr>\n",
       "      <th>40%</th>\n",
       "      <td>NaN</td>\n",
       "      <td>3105.435937</td>\n",
       "      <td>3119.889990</td>\n",
       "      <td>3084.435986</td>\n",
       "      <td>3109.924023</td>\n",
       "      <td>3109.924023</td>\n",
       "      <td>3.831044e+09</td>\n",
       "    </tr>\n",
       "    <tr>\n",
       "      <th>50%</th>\n",
       "      <td>NaN</td>\n",
       "      <td>3370.420044</td>\n",
       "      <td>3389.319946</td>\n",
       "      <td>3358.065063</td>\n",
       "      <td>3374.395020</td>\n",
       "      <td>3374.395020</td>\n",
       "      <td>4.010000e+09</td>\n",
       "    </tr>\n",
       "    <tr>\n",
       "      <th>60%</th>\n",
       "      <td>NaN</td>\n",
       "      <td>3789.352002</td>\n",
       "      <td>3821.487988</td>\n",
       "      <td>3750.116113</td>\n",
       "      <td>3791.851953</td>\n",
       "      <td>3791.851953</td>\n",
       "      <td>4.244948e+09</td>\n",
       "    </tr>\n",
       "    <tr>\n",
       "      <th>80%</th>\n",
       "      <td>NaN</td>\n",
       "      <td>4183.489941</td>\n",
       "      <td>4202.664062</td>\n",
       "      <td>4159.712012</td>\n",
       "      <td>4180.769922</td>\n",
       "      <td>4180.769922</td>\n",
       "      <td>4.846742e+09</td>\n",
       "    </tr>\n",
       "    <tr>\n",
       "      <th>max</th>\n",
       "      <td>NaN</td>\n",
       "      <td>4804.509766</td>\n",
       "      <td>4818.620117</td>\n",
       "      <td>4780.040039</td>\n",
       "      <td>4796.560059</td>\n",
       "      <td>4796.560059</td>\n",
       "      <td>9.976520e+09</td>\n",
       "    </tr>\n",
       "  </tbody>\n",
       "</table>\n",
       "</div>"
      ],
      "text/plain": [
       "              Date         Open         High          Low        Close  \\\n",
       "count         1258  1258.000000  1258.000000  1258.000000  1258.000000   \n",
       "unique        1258          NaN          NaN          NaN          NaN   \n",
       "top     2018-03-12          NaN          NaN          NaN          NaN   \n",
       "freq             1          NaN          NaN          NaN          NaN   \n",
       "mean           NaN  3496.527727  3518.091246  3472.824220  3496.661343   \n",
       "std            NaN   662.158234   665.817851   658.617785   662.461152   \n",
       "min            NaN  2290.709961  2300.729980  2191.860107  2237.399902   \n",
       "20%            NaN  2826.512012  2843.134033  2806.757959  2824.962012   \n",
       "40%            NaN  3105.435937  3119.889990  3084.435986  3109.924023   \n",
       "50%            NaN  3370.420044  3389.319946  3358.065063  3374.395020   \n",
       "60%            NaN  3789.352002  3821.487988  3750.116113  3791.851953   \n",
       "80%            NaN  4183.489941  4202.664062  4159.712012  4180.769922   \n",
       "max            NaN  4804.509766  4818.620117  4780.040039  4796.560059   \n",
       "\n",
       "          Adj Close        Volume  \n",
       "count   1258.000000  1.258000e+03  \n",
       "unique          NaN           NaN  \n",
       "top             NaN           NaN  \n",
       "freq            NaN           NaN  \n",
       "mean    3496.661343  4.239659e+09  \n",
       "std      662.461152  1.076383e+09  \n",
       "min     2237.399902  1.296530e+09  \n",
       "20%     2824.962012  3.432860e+09  \n",
       "40%     3109.924023  3.831044e+09  \n",
       "50%     3374.395020  4.010000e+09  \n",
       "60%     3791.851953  4.244948e+09  \n",
       "80%     4180.769922  4.846742e+09  \n",
       "max     4796.560059  9.976520e+09  "
      ]
     },
     "execution_count": 20,
     "metadata": {},
     "output_type": "execute_result"
    }
   ],
   "source": [
    "df.describe(percentiles = [.20, .40, .60, .80], include = ['object', 'float', 'int'])"
   ]
  },
  {
   "cell_type": "code",
   "execution_count": 22,
   "id": "a1535e28",
   "metadata": {},
   "outputs": [
    {
     "data": {
      "image/png": "[encoded data removed]",
      "text/plain": [
       "<Figure size 640x480 with 1 Axes>"
      ]
     },
     "metadata": {},
     "output_type": "display_data"
    }
   ],
   "source": [
    "plt.plot(df['Date'], df['Close'])\n",
    "plt.show()"
   ]
  },
  {
   "cell_type": "code",
   "execution_count": 23,
   "id": "28b3ba27",
   "metadata": {},
   "outputs": [
    {
     "name": "stderr",
     "output_type": "stream",
     "text": [
      "C:\\Users\\dell\\AppData\\Local\\Temp\\ipykernel_8468\\184040345.py:2: FutureWarning: The default value of numeric_only in DataFrame.corr is deprecated. In a future version, it will default to False. Select only valid columns or specify the value of numeric_only to silence this warning.\n",
      "  sns.heatmap(df.corr())\n"
     ]
    },
    {
     "data": {
      "image/png": "[encoded data removed]",
      "text/plain": [
       "<Figure size 640x480 with 2 Axes>"
      ]
     },
     "metadata": {},
     "output_type": "display_data"
    }
   ],
   "source": [
    "import seaborn as sns\n",
    "sns.heatmap(df.corr())\n",
    "plt.show()"
   ]
  },
  {
   "cell_type": "code",
   "execution_count": null,
   "id": "1ef0f592",
   "metadata": {},
   "outputs": [],
   "source": []
  }
 ],
 "metadata": {
  "kernelspec": {
   "display_name": "Python 3 (ipykernel)",
   "language": "python",
   "name": "python3"
  },
  "language_info": {
   "codemirror_mode": {
    "name": "ipython",
    "version": 3
   },
   "file_extension": ".py",
   "mimetype": "text/x-python",
   "name": "python",
   "nbconvert_exporter": "python",
   "pygments_lexer": "ipython3",
   "version": "3.8.5"
  }
 },
 "nbformat": 4,
 "nbformat_minor": 5
}
